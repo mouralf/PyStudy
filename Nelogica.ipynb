{
 "cells": [
  {
   "cell_type": "code",
   "execution_count": 1,
   "metadata": {},
   "outputs": [
    {
     "name": "stdout",
     "output_type": "stream",
     "text": [
      "31\n"
     ]
    },
    {
     "data": {
      "text/plain": [
       "31"
      ]
     },
     "execution_count": 1,
     "metadata": {},
     "output_type": "execute_result"
    }
   ],
   "source": [
    "def getNumber(binary):\n",
    "    # Write your code here\n",
    "    num = 0\n",
    "    for n in binary:\n",
    "        num = int(n) + num * 2\n",
    "\n",
    "    print (num)   \n",
    "    return int(num)\n",
    "\n",
    "getNumber([0, 0, 0, 0, 0, 1, 1, 1, 1, 1])"
   ]
  },
  {
   "cell_type": "code",
   "execution_count": 12,
   "metadata": {},
   "outputs": [
    {
     "name": "stdout",
     "output_type": "stream",
     "text": [
      "2 4\n",
      "4 6\n"
     ]
    }
   ],
   "source": [
    "def closestNumbers(numbers):\n",
    "    # Write your code here\n",
    "    numbers.sort() #coloca a lista em ordem crescente\n",
    "    pares = []\n",
    "    min_diff = 10000 #inicializa com um valor alto\n",
    "    \n",
    "    for n in range(len(numbers)-1):\n",
    "        diff = abs(numbers[n] - numbers[n+1])\n",
    "        \n",
    "        if (diff <= min_diff):\n",
    "            min_diff = diff #atualiza o valor\n",
    "            pares.append([numbers[n], numbers[n+1]])\n",
    "        else:\n",
    "            pass\n",
    "        \n",
    "    for par in pares:\n",
    "        print(par[0], par[1])\n",
    "\n",
    "lista = [6, 2, 4, 10]\n",
    "closestNumbers(lista)"
   ]
  },
  {
   "cell_type": "code",
   "execution_count": 3,
   "metadata": {},
   "outputs": [
    {
     "name": "stdout",
     "output_type": "stream",
     "text": [
      "Inicio do prefixo\n",
      "jackson\n",
      "jack\n",
      "jacques\n",
      "Fim do prefixo\n"
     ]
    },
    {
     "data": {
      "text/plain": [
       "[1]"
      ]
     },
     "execution_count": 3,
     "metadata": {},
     "output_type": "execute_result"
    }
   ],
   "source": [
    "def findCompletePrefixes(names, query):\n",
    "    # Write your code here\n",
    "    nPrefix = 0\n",
    "    prefixos = []\n",
    "    \n",
    "    for prefixo in query: #percorre a lista de prefixos\n",
    "        print (\"Inicio do prefixo\")\n",
    "        for nome in names: #percorre a lista de nomes\n",
    "            print(nome)\n",
    "            if (len(prefixo) < len(nome)):\n",
    "                if nome.startswith(prefixo):\n",
    "                    nPrefix += 1\n",
    "                else: # se o nome nao comeca com o prefixo\n",
    "                    pass\n",
    "            else: #se o prefixo nao e menor que o nome\n",
    "                pass\n",
    "        #quando tiver percorrido todos os nomes\n",
    "        print(\"Fim do prefixo\")\n",
    "        prefixos.append(nPrefix)\n",
    "            \n",
    "    \n",
    "    return prefixos\n",
    "\n",
    "names = ['jackson', 'jack', 'jacques']\n",
    "prefix = ['jack']\n",
    "\n",
    "findCompletePrefixes(names, prefix)"
   ]
  },
  {
   "cell_type": "code",
   "execution_count": 25,
   "metadata": {},
   "outputs": [
    {
     "data": {
      "text/plain": [
       "[0, [], []]"
      ]
     },
     "execution_count": 25,
     "metadata": {},
     "output_type": "execute_result"
    }
   ],
   "source": [
    "def smashTheBricks(bigHits, newtons):\n",
    "    # Write your code here\n",
    "    total_hits = bigHits\n",
    "    bigHammerHits = []\n",
    "    smallHammerHits = []\n",
    "    \n",
    "    N = [newtons]\n",
    "    N.sort(reverse = True) #ordena em ordem decrescente\n",
    "    \n",
    "    \n",
    "    for i in range(len(N)-1):\n",
    "        if (bigHits > 0):\n",
    "            bigHammerHits.append(i) \n",
    "            bigHits -= 1 #decrementa o uso do bigHammer\n",
    "        else:\n",
    "            smallHammerHits.append(i) #insere o indice -> mudar\n",
    "            total_hits += N[i]\n",
    "            \n",
    "        \n",
    "    bigHammerHits.sort()\n",
    "    smallHammerHits.sort()\n",
    "    \n",
    "    return [total_hits, bigHammerHits, smallHammerHits]\n",
    "\n",
    "smashTheBricks(0, 2)"
   ]
  }
 ],
 "metadata": {
  "kernelspec": {
   "display_name": "base",
   "language": "python",
   "name": "python3"
  },
  "language_info": {
   "codemirror_mode": {
    "name": "ipython",
    "version": 3
   },
   "file_extension": ".py",
   "mimetype": "text/x-python",
   "name": "python",
   "nbconvert_exporter": "python",
   "pygments_lexer": "ipython3",
   "version": "3.9.12"
  },
  "orig_nbformat": 4
 },
 "nbformat": 4,
 "nbformat_minor": 2
}
