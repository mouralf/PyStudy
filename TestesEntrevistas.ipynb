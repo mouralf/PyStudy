{
 "cells": [
  {
   "attachments": {},
   "cell_type": "markdown",
   "metadata": {},
   "source": [
    "Palindromo"
   ]
  },
  {
   "cell_type": "code",
   "execution_count": 1,
   "metadata": {},
   "outputs": [],
   "source": [
    "def verifPalind(sentence):\n",
    "    for l in \"!?',;. \":\n",
    "        sentence = sentence.replace(l, '')\n",
    "    \n",
    "    sentence = sentence.lower()\n",
    "    \n",
    "    invertido = sentence[::-1]\n",
    "\n",
    "    if (sentence == invertido):\n",
    "        palindromo = True\n",
    "    else:\n",
    "        palindromo = False\n",
    "    \n",
    "    return palindromo\n",
    "\n",
    "#verifPalind(input(\"Digite uma palavra ou frase:\"))"
   ]
  },
  {
   "cell_type": "code",
   "execution_count": 2,
   "metadata": {},
   "outputs": [
    {
     "name": "stderr",
     "output_type": "stream",
     "text": [
      "..\n",
      "----------------------------------------------------------------------\n",
      "Ran 2 tests in 0.001s\n",
      "\n",
      "OK\n"
     ]
    }
   ],
   "source": [
    "### TESTES UNITARIOS ###\n",
    "import unittest\n",
    "class TestPalindromo(unittest.TestCase):\n",
    "    def test_palavra(self):\n",
    "        self.assertTrue(verifPalind(\"arara\"))\n",
    "        self.assertFalse(verifPalind(\"banana\"))\n",
    "\n",
    "    def test_frase(self):\n",
    "        self.assertTrue(verifPalind(\"A base do teto desaba\"))\n",
    "        self.assertFalse(verifPalind(\"Nao e palindromo\"))\n",
    "\n",
    "loader = unittest.TestLoader()\n",
    "testPalind = loader.loadTestsFromTestCase(TestPalindromo)\n",
    "runner = unittest.TextTestRunner()\n",
    "result = runner.run(testPalind)\n"
   ]
  },
  {
   "attachments": {},
   "cell_type": "markdown",
   "metadata": {},
   "source": [
    "Fatorial"
   ]
  },
  {
   "cell_type": "code",
   "execution_count": 4,
   "metadata": {},
   "outputs": [],
   "source": [
    "def calcFat(num):\n",
    "    fat = num\n",
    "\n",
    "    if num == 0:\n",
    "        fat = 1\n",
    "\n",
    "    else:\n",
    "        for n in range(num-1, 1, -1):\n",
    "            fat = fat * n\n",
    "\n",
    "    return fat\n",
    "\n",
    "#calcFat(int(input(\"Digite um numero:\")))"
   ]
  },
  {
   "cell_type": "code",
   "execution_count": 5,
   "metadata": {},
   "outputs": [
    {
     "name": "stderr",
     "output_type": "stream",
     "text": [
      ".\n",
      "----------------------------------------------------------------------\n",
      "Ran 1 test in 0.001s\n",
      "\n",
      "OK\n"
     ]
    }
   ],
   "source": [
    "### TESTES UNITARIOS ###\n",
    "\n",
    "class TestFatorial(unittest.TestCase):\n",
    "    def test_fatorial(self):\n",
    "        self.assertEqual(calcFat(0),1)\n",
    "        self.assertEqual(calcFat(5), 120)\n",
    "\n",
    "loader = unittest.TestLoader()\n",
    "testFat = loader.loadTestsFromTestCase(TestFatorial)\n",
    "runner = unittest.TextTestRunner()\n",
    "result = runner.run(testFat)"
   ]
  },
  {
   "attachments": {},
   "cell_type": "markdown",
   "metadata": {},
   "source": [
    "Pesquisa Array\n"
   ]
  },
  {
   "cell_type": "code",
   "execution_count": 6,
   "metadata": {},
   "outputs": [
    {
     "data": {
      "text/plain": [
       "2"
      ]
     },
     "execution_count": 6,
     "metadata": {},
     "output_type": "execute_result"
    }
   ],
   "source": [
    "def posArray(numeros, elemento):\n",
    "    return numeros.index(elemento)\n",
    "\n",
    "posArray([1, 2, 5, 9, 10, 12, 4, 5], 5)"
   ]
  },
  {
   "attachments": {},
   "cell_type": "markdown",
   "metadata": {},
   "source": [
    "Ordenação "
   ]
  },
  {
   "cell_type": "code",
   "execution_count": 7,
   "metadata": {},
   "outputs": [
    {
     "data": {
      "text/plain": [
       "[1, 2, 3, 4, 5, 7, 9, 12]"
      ]
     },
     "execution_count": 7,
     "metadata": {},
     "output_type": "execute_result"
    }
   ],
   "source": [
    "def ordenacao (lista):\n",
    "    lista.sort()\n",
    "    return lista\n",
    "\n",
    "ordenacao([3, 5, 12, 1, 2, 4, 9, 7])"
   ]
  },
  {
   "attachments": {},
   "cell_type": "markdown",
   "metadata": {},
   "source": [
    "Contagem caracteres"
   ]
  },
  {
   "cell_type": "code",
   "execution_count": 8,
   "metadata": {},
   "outputs": [
    {
     "data": {
      "text/plain": [
       "3"
      ]
     },
     "execution_count": 8,
     "metadata": {},
     "output_type": "execute_result"
    }
   ],
   "source": [
    "def countChar(sentenca, char):\n",
    "    qtd = 0\n",
    "    for l in sentenca:\n",
    "        if l == char:\n",
    "            qtd += 1\n",
    "    \n",
    "    return qtd\n",
    "\n",
    "countChar(\"arara\", 'a')\n"
   ]
  },
  {
   "attachments": {},
   "cell_type": "markdown",
   "metadata": {},
   "source": [
    "Anagrama"
   ]
  },
  {
   "cell_type": "code",
   "execution_count": 9,
   "metadata": {},
   "outputs": [
    {
     "data": {
      "text/plain": [
       "True"
      ]
     },
     "execution_count": 9,
     "metadata": {},
     "output_type": "execute_result"
    }
   ],
   "source": [
    "def verifAnag(sent1, sent2):\n",
    "    let1 = []\n",
    "    let2 = []\n",
    "\n",
    "    for l1 in sent1:\n",
    "        let1.append(l1)\n",
    "\n",
    "    for l2 in sent2:\n",
    "        let2.append(l2)\n",
    "    \n",
    "    let1.sort()\n",
    "    let2.sort()\n",
    "\n",
    "    if let1 == let2:\n",
    "        return True\n",
    "    else:\n",
    "        return False\n",
    "\n",
    "\n",
    "verifAnag(\"amor\", \"roma\")\n",
    "\n",
    "        "
   ]
  },
  {
   "attachments": {},
   "cell_type": "markdown",
   "metadata": {},
   "source": [
    "Número máximo em uma matriz"
   ]
  },
  {
   "cell_type": "code",
   "execution_count": 10,
   "metadata": {},
   "outputs": [
    {
     "data": {
      "text/plain": [
       "(10, [0, 1])"
      ]
     },
     "execution_count": 10,
     "metadata": {},
     "output_type": "execute_result"
    }
   ],
   "source": [
    "def max_matriz(matriz):\n",
    "    maximo = 0\n",
    "\n",
    "    for l in range(len(matriz)):\n",
    "        for c in range(len(matriz)):\n",
    "            if matriz[l][c] > maximo:\n",
    "                maximo = matriz[l][c]\n",
    "                posic = [l,c]\n",
    "    \n",
    "    return (maximo, posic)\n",
    "\n",
    "matrix = [\n",
    "    [5, 10, 2],\n",
    "    [8, 3, 1],\n",
    "    [6, 7, 9]\n",
    "]\n",
    "\n",
    "max_matriz(matrix)"
   ]
  },
  {
   "attachments": {},
   "cell_type": "markdown",
   "metadata": {},
   "source": [
    "Substrings "
   ]
  },
  {
   "cell_type": "code",
   "execution_count": 11,
   "metadata": {},
   "outputs": [
    {
     "data": {
      "text/plain": [
       "True"
      ]
     },
     "execution_count": 11,
     "metadata": {},
     "output_type": "execute_result"
    }
   ],
   "source": [
    "def substrings(sent1, sent2):\n",
    "    sent1 = sent1.split()\n",
    "\n",
    "    substr = False\n",
    "\n",
    "    for str in sent1:\n",
    "        if (sent2 == str):\n",
    "            substr = True\n",
    "    \n",
    "    return substr\n",
    "\n",
    "substrings(\"Isso aqui e um teste\", \"teste\")\n",
    "        "
   ]
  },
  {
   "attachments": {},
   "cell_type": "markdown",
   "metadata": {},
   "source": [
    "MDC"
   ]
  },
  {
   "cell_type": "code",
   "execution_count": 12,
   "metadata": {},
   "outputs": [
    {
     "data": {
      "text/plain": [
       "12"
      ]
     },
     "execution_count": 12,
     "metadata": {},
     "output_type": "execute_result"
    }
   ],
   "source": [
    "def MDC (num1, num2):\n",
    "    if num1>num2:\n",
    "        maior = num1\n",
    "    else:\n",
    "        maior = num2\n",
    "\n",
    "    for n in range(1, maior):\n",
    "        if (num1%n == 0 and num2%n==0):\n",
    "            mdc = n\n",
    "\n",
    "    return mdc\n",
    "\n",
    "MDC(48,36)\n"
   ]
  }
 ],
 "metadata": {
  "kernelspec": {
   "display_name": "MLenv",
   "language": "python",
   "name": "python3"
  },
  "language_info": {
   "codemirror_mode": {
    "name": "ipython",
    "version": 3
   },
   "file_extension": ".py",
   "mimetype": "text/x-python",
   "name": "python",
   "nbconvert_exporter": "python",
   "pygments_lexer": "ipython3",
   "version": "3.9.12"
  },
  "orig_nbformat": 4
 },
 "nbformat": 4,
 "nbformat_minor": 2
}
