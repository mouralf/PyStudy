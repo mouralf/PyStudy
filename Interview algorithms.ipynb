{
 "cells": [
  {
   "attachments": {},
   "cell_type": "markdown",
   "metadata": {},
   "source": [
    "Reverse Integer"
   ]
  },
  {
   "cell_type": "code",
   "execution_count": 1,
   "metadata": {},
   "outputs": [
    {
     "name": "stdout",
     "output_type": "stream",
     "text": [
      "654\n"
     ]
    }
   ],
   "source": [
    "def inverteNum():\n",
    "    num = input(\"Digite o número:\")\n",
    "\n",
    "    if(num[0] == '-'):\n",
    "        return int('-'+num[:0:-1]) #percorre a string no sentido contrario, parando no elemento 0 (nao incluso)\n",
    "    else:\n",
    "        return int(num[::-1]) #percorre toda a string no sentido contrario\n",
    "\n",
    "print(inverteNum())\n"
   ]
  },
  {
   "attachments": {},
   "cell_type": "markdown",
   "metadata": {},
   "source": [
    " Average Words Length"
   ]
  },
  {
   "cell_type": "code",
   "execution_count": null,
   "metadata": {},
   "outputs": [
    {
     "data": {
      "text/plain": [
       "4.076923076923077"
      ]
     },
     "execution_count": 7,
     "metadata": {},
     "output_type": "execute_result"
    }
   ],
   "source": [
    "# For a given sentence, return the average word length. \n",
    "# Note: Remember to remove punctuation first.\n",
    "\n",
    "sentence1 = \"Hi all, my name is Tom...I am originally from Australia.\"\n",
    "sentence2 = \"I need to work very hard to learn more about algorithms in Python!\"\n",
    "\n",
    "#1st method\n",
    "def mediaLetras(sentence):\n",
    "    letters = 0\n",
    "    words = 0\n",
    "    \n",
    "    #remove a pontuacao\n",
    "    for p in \"!?',;.\":\n",
    "        sentence = sentence.replace(p, '')\n",
    "    \n",
    "    #separa a lista de palavras\n",
    "    wordsList = sentence.split()\n",
    "\n",
    "    #ve o tamanho da lista (quantidade de palavras)\n",
    "    words = len(wordsList)\n",
    "\n",
    "    #itera sobre a lista e conta o numero de letras em cada palavra\n",
    "    for word in wordsList:\n",
    "        letters+=len(word)\n",
    "\n",
    "    return letters/words\n",
    "\n",
    "#2nd method\n",
    "def wordsAvarage(sentence):\n",
    "    wordsList = [] #para a lista de palavras\n",
    "    word = \"\" #para formar as strings\n",
    "    index = 0 #para iterar a lista\n",
    "    letras = 0 #para contar o numero de letras\n",
    "\n",
    "    for caracter in sentence:\n",
    "        #print(caracter)\n",
    "        if (caracter.isalpha()): #verifica se e uma letra do alfabeto\n",
    "            #print(caracter)\n",
    "            word +=  caracter \n",
    "            letras += 1\n",
    "        else:\n",
    "            if (word != \"\"):\n",
    "                wordsList.append(word)\n",
    "            word = \"\"\n",
    "            \n",
    "    return (letras/len(wordsList))\n",
    "\n",
    "\n",
    "mediaLetras(sentence1)\n",
    "mediaLetras(sentence2)\n"
   ]
  },
  {
   "attachments": {},
   "cell_type": "markdown",
   "metadata": {},
   "source": [
    "Add Strings"
   ]
  },
  {
   "cell_type": "code",
   "execution_count": null,
   "metadata": {},
   "outputs": [
    {
     "name": "stdout",
     "output_type": "stream",
     "text": [
      "2200\n"
     ]
    }
   ],
   "source": [
    "# Given two non-negative integers num1 and num2 represented as string, return the sum of num1 and num2.\n",
    "# You must not use any built-in BigInteger library or convert the inputs to integer directly.\n",
    "\n",
    "#Notes:\n",
    "#Both num1 and num2 contains only digits 0-9.\n",
    "#Both num1 and num2 does not contain any leading zero.\n",
    "\n",
    "num1 = '364'\n",
    "num2 = '1836'\n",
    "\n",
    "def soma(n1, n2):\n",
    "   return (eval(n1) + eval(n2))\n",
    "\n",
    "print(soma(num1,num2))\n",
    "\n",
    "\n"
   ]
  },
  {
   "attachments": {},
   "cell_type": "markdown",
   "metadata": {},
   "source": [
    "4. First Unique Character\n"
   ]
  },
  {
   "cell_type": "code",
   "execution_count": null,
   "metadata": {},
   "outputs": [
    {
     "name": "stdout",
     "output_type": "stream",
     "text": [
      "2\n",
      "1\n",
      "2\n",
      "1\n"
     ]
    }
   ],
   "source": [
    "# Given a string, find the first non-repeating character in it and return its index. \n",
    "# If it doesn't exist, return -1. # Note: all the input strings are already lowercase.\n",
    "\n",
    "def FUC(word):\n",
    "    i = 0\n",
    "    dict = {} #dicionario com as palavras\n",
    "\n",
    "    for l in word:\n",
    "        dict [i] = l\n",
    "        i+=1\n",
    "    \n",
    "    letters = list(dict.values())\n",
    "    unico = 0\n",
    "    index = 0\n",
    "    for items in letters:\n",
    "       \n",
    "        index+=1\n",
    "        if letters.count(items) > 1:\n",
    "            continue\n",
    "            \n",
    "        elif letters.count(items) == 1:\n",
    "           return index-1    \n",
    "\n",
    "    return -1\n",
    "\n",
    "\n",
    "print(FUC('teste'))\n",
    "print(FUC('alphabet'))\n",
    "print(FUC('barbados'))\n",
    "print(FUC('crunchy'))"
   ]
  },
  {
   "attachments": {},
   "cell_type": "markdown",
   "metadata": {},
   "source": [
    "5. Valid Palindrome\n"
   ]
  },
  {
   "cell_type": "code",
   "execution_count": 84,
   "metadata": {},
   "outputs": [],
   "source": [
    "# Given a non-empty string s, you may delete at most one character. Judge whether you can make it a palindrome.\n",
    "# The string will only contain lowercase characters a-z.\n",
    "\n",
    "def palindrome(w):\n",
    "    wInv = w[::-1]        \n",
    "    \n",
    "    for i in range(len(w)):\n",
    "        word = w[:i] + w[i+1:]\n",
    "\n",
    "        if word == word[::-1]:\n",
    "            return True\n",
    "        \n",
    "    return w == w[::-1]\n"
   ]
  },
  {
   "attachments": {},
   "cell_type": "markdown",
   "metadata": {},
   "source": [
    "6. Monotonic Array\n"
   ]
  },
  {
   "cell_type": "code",
   "execution_count": 13,
   "metadata": {},
   "outputs": [
    {
     "data": {
      "text/plain": [
       "False"
      ]
     },
     "execution_count": 13,
     "metadata": {},
     "output_type": "execute_result"
    }
   ],
   "source": [
    "# Given an array of integers, determine whether the array is monotonic or not.\n",
    "A = [6, 5, 4, 4] \n",
    "B = [1,1,1,3,3,4,3,2,4,2]\n",
    "C = [1,1,2,3,7]\n",
    "\n",
    "\n",
    "def monotonic(a):\n",
    "    cresc = False\n",
    "    decresc = False\n",
    "    \n",
    "    if all(a[i]>=a[i+1] for i in range(len(a)-1)):\n",
    "        cresc = True\n",
    "    elif all(a[i]<=a[i+1] for i in range(len(a)-1)):\n",
    "        decresc = True\n",
    "\n",
    "    return cresc or decresc\n",
    "\n",
    "monotonic(B)\n",
    "\n",
    "\n"
   ]
  },
  {
   "attachments": {},
   "cell_type": "markdown",
   "metadata": {},
   "source": [
    "7. Move Zeroes\n"
   ]
  },
  {
   "cell_type": "code",
   "execution_count": 4,
   "metadata": {},
   "outputs": [
    {
     "name": "stdout",
     "output_type": "stream",
     "text": [
      "[1, 3, 12, 0, 0]\n",
      "[1, 7, 8, 10, 12, 4, 0, 0, 0, 0]\n"
     ]
    }
   ],
   "source": [
    "#Given an array nums, write a function to move all zeroes to the end of it while maintaining the relative order of \n",
    "#the non-zero elements.\n",
    "\n",
    "array1 = [0,1,0,3,12]\n",
    "array2 = [1,7,0,0,8,0,10,12,0,4]\n",
    "\n",
    "def moveZeros(array):\n",
    "    for i in range(len(array)-1):\n",
    "        if array[i] == 0:\n",
    "            array.remove(0)\n",
    "            array.append(0)\n",
    "        else:\n",
    "            continue\n",
    "\n",
    "    return array\n",
    "\n",
    "print(moveZeros(array1))\n",
    "print(moveZeros(array2))"
   ]
  },
  {
   "attachments": {},
   "cell_type": "markdown",
   "metadata": {},
   "source": [
    "8. Fill The Blanks\n"
   ]
  },
  {
   "cell_type": "code",
   "execution_count": 43,
   "metadata": {},
   "outputs": [
    {
     "name": "stdout",
     "output_type": "stream",
     "text": [
      "[1, 1, 2, 3, 3, 3, 5, 5]\n",
      "[1, 1, 2, 3, 3, 3, 5, 5]\n"
     ]
    }
   ],
   "source": [
    "# Given an array containing None values fill in the None values with most recent \n",
    "# non None value in the array \n",
    "array1 = [1,None,2,3,None,None,5,None]\n",
    "\n",
    "def notBlank(a):\n",
    "    valor = 0\n",
    "    for i in range(len(a)):\n",
    "        if(a[i] is not None):\n",
    "            valor = a[i]\n",
    "        else:\n",
    "            a[i] = valor\n",
    "    \n",
    "    return a\n",
    "\n",
    "\n",
    "def notBlank2(a):\n",
    "    valor = 0\n",
    "    lista = []\n",
    "    for i in a:\n",
    "        if(i is not None):\n",
    "            valor = i\n",
    "            lista.append(i)\n",
    "        else:\n",
    "            lista.append(valor)\n",
    "    \n",
    "    return a\n",
    "\n",
    "print(notBlank(array1))\n",
    "print(notBlank2(array1))"
   ]
  },
  {
   "attachments": {},
   "cell_type": "markdown",
   "metadata": {},
   "source": [
    "9. Matched & Mismatched Words\n"
   ]
  },
  {
   "cell_type": "code",
   "execution_count": 65,
   "metadata": {},
   "outputs": [
    {
     "name": "stdout",
     "output_type": "stream",
     "text": [
      "(['city', 'really'], ['The', 'We', 'a', 'are', 'by', 'heavy', 'hit', 'in', 'meet', 'our', 'pleased', 'storm', 'to', 'was', 'you'])\n"
     ]
    }
   ],
   "source": [
    "#Given two sentences, return an array that has the words that appear in one sentence and not\n",
    "#the other and an array with the words in common. \n",
    "\n",
    "sentence1 = 'We are really pleased to meet you in our city'\n",
    "sentence2 = 'The city was hit by a really heavy storm'\n",
    "\n",
    "def palavras(s1, s2):\n",
    "    matched = []\n",
    "    mismatched = []\n",
    "\n",
    "    s1 = s1.split()\n",
    "    s2 = s2.split()\n",
    "\n",
    "    #print(s1, s2)\n",
    "\n",
    "    for w in s1:\n",
    "        if w in s2:\n",
    "            mismatched.append(w)\n",
    "        else:\n",
    "            matched.append(w)\n",
    "    \n",
    "    for w in s2:\n",
    "        if (w in s1) & (w not in mismatched):\n",
    "            mismatched.append(w)\n",
    "        elif (w not in s1) & (w not in matched):\n",
    "                matched.append(w)\n",
    "\n",
    "    #print(matched, mismatched)\n",
    "\n",
    "    return matched, mismatched\n",
    "\n",
    "def palavras2(s1, s2):\n",
    "    matched = []\n",
    "    mismatched = []\n",
    "\n",
    "    \n",
    "    #set -> cria uma colecao com valores nao repetidos\n",
    "    s1 = set(s1.split())\n",
    "    s2 = set(s2.split())\n",
    "\n",
    "    #sorted -> coloca uma lista em ordem crescente\n",
    "    matched = sorted(list(s1.intersection(s2))) #intersection -> metodo de set \n",
    "    mismatched = sorted(list(s1.symmetric_difference(s2))) #symmetric_difference -> metodo de set \n",
    "\n",
    "    return matched, mismatched\n",
    "\n",
    "\n",
    "print(palavras2(sentence1, sentence2))\n"
   ]
  },
  {
   "attachments": {},
   "cell_type": "markdown",
   "metadata": {},
   "source": [
    "10. Prime Numbers Array\n"
   ]
  },
  {
   "cell_type": "code",
   "execution_count": 72,
   "metadata": {},
   "outputs": [
    {
     "data": {
      "text/plain": [
       "[2, 3, 5, 7, 11, 13, 17, 19, 23, 29, 31]"
      ]
     },
     "execution_count": 72,
     "metadata": {},
     "output_type": "execute_result"
    }
   ],
   "source": [
    "max = 35\n",
    "\n",
    "def primeNumbers(n):\n",
    "    primos = []\n",
    "\n",
    "    for num in range(n):\n",
    "        if num > 1: # all prime numbers are greater than 1\n",
    "            for i in range(2, num):\n",
    "                if (num % i) == 0: # if the modulus == 0 is means that the number can be divided by a number preceding it\n",
    "                    break\n",
    "            else:\n",
    "                primos.append(num)\n",
    "    return primos\n",
    "\n",
    "primeNumbers(max)"
   ]
  },
  {
   "cell_type": "code",
   "execution_count": 7,
   "metadata": {},
   "outputs": [
    {
     "name": "stdout",
     "output_type": "stream",
     "text": [
      "4096\n"
     ]
    }
   ],
   "source": [
    "\n",
    "\"\"\"\n",
    "\n",
    "\"\"\"\n",
    "def findSecretCode(secretCode, firstKey, secondKey):\n",
    "\t# Write your code here\n",
    "\tif (firstKey<=1000000007 and secondKey <= 1000000007 ):\n",
    "\t\tcodeEncrypted = (((secretCode**firstKey)%10)**secondKey)%10000000007\n",
    "\t\tif(codeEncrypted>=1 and codeEncrypted<=(10**9)):\n",
    "\t\t\treturn codeEncrypted\n",
    "\t\telse:\n",
    "\t\t\treturn -1\n",
    "\n",
    "\n",
    "def main():\n",
    "\t#input for secretCode\n",
    "\tsecretCode = int(input())\n",
    "\t\n",
    "\t#input for firstKey\n",
    "\tfirstKey = int(input())\n",
    "\t\n",
    "\t#input for secondKey\n",
    "\tsecondKey = int(input())\n",
    "\t\n",
    "\t\n",
    "\tresult = findSecretCode(secretCode, firstKey, secondKey)\n",
    "\tprint(result)\t\n",
    "\n",
    "if __name__ == \"__main__\":\n",
    "\tmain()"
   ]
  },
  {
   "cell_type": "code",
   "execution_count": 8,
   "metadata": {},
   "outputs": [
    {
     "name": "stdout",
     "output_type": "stream",
     "text": [
      "2401\n"
     ]
    }
   ],
   "source": [
    "\n",
    "\"\"\"\n",
    "\n",
    "\"\"\"\n",
    "def findSecretCode(secretCode, firstKey, secondKey):\n",
    "        if (firstKey<=1000000007 and secondKey <= 1000000007 ):\n",
    "            codeEncrypted = pow(secretCode, firstKey, 10)**secondKey%10000000007\n",
    "            if(codeEncrypted>=1 and codeEncrypted<=(10**9)):\n",
    "                return codeEncrypted\n",
    "            else:\n",
    "                return -1\n",
    "\n",
    "            if(codeEncrypted>=1 and codeEncrypted<=(10**9)):\n",
    "                return codeEncrypted\n",
    "            else:\n",
    "                return -1\n",
    "\n",
    "\n",
    "def main():\n",
    "\t#input for secretCode\n",
    "\tsecretCode = int(input())\n",
    "\t\n",
    "\t#input for firstKey\n",
    "\tfirstKey = int(input())\n",
    "\t\n",
    "\t#input for secondKey\n",
    "\tsecondKey = int(input())\n",
    "\t\n",
    "\t\n",
    "\tresult = findSecretCode(secretCode, firstKey, secondKey)\n",
    "\tprint(result)\t\n",
    "\n",
    "if __name__ == \"__main__\":\n",
    "\tmain()"
   ]
  }
 ],
 "metadata": {
  "kernelspec": {
   "display_name": "MLenv",
   "language": "python",
   "name": "python3"
  },
  "language_info": {
   "codemirror_mode": {
    "name": "ipython",
    "version": 3
   },
   "file_extension": ".py",
   "mimetype": "text/x-python",
   "name": "python",
   "nbconvert_exporter": "python",
   "pygments_lexer": "ipython3",
   "version": "3.10.8"
  },
  "orig_nbformat": 4,
  "vscode": {
   "interpreter": {
    "hash": "769f68f7f028abd00d3b7f69d60e7f7cf1186dc15b9eefabf7a3096ec663d3eb"
   }
  }
 },
 "nbformat": 4,
 "nbformat_minor": 2
}
