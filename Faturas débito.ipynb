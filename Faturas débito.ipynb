{
 "cells": [
  {
   "cell_type": "code",
   "execution_count": 78,
   "metadata": {},
   "outputs": [],
   "source": [
    "import csv"
   ]
  },
  {
   "cell_type": "code",
   "execution_count": 79,
   "metadata": {},
   "outputs": [],
   "source": [
    "listaCompras = {}\n",
    "\n",
    "def somaCompras(nomeCompra, valorCompra):\n",
    "    if (nomeCompra) in listaCompras:\n",
    "        print(nomeCompra + \" \\t já listado\")\n",
    "    else:\n",
    "        listaCompras[nomeCompra] = valorCompra\n",
    "        #print(listaCompras)\n",
    "\n"
   ]
  },
  {
   "cell_type": "code",
   "execution_count": 82,
   "metadata": {},
   "outputs": [
    {
     "name": "stdout",
     "output_type": "stream",
     "text": [
      "Compra no débito - Zaffari F Vieira \t já listado\n",
      "Compra no débito - Zaffari F Vieira \t já listado\n",
      "Compra no débito - Zaffari F Vieira \t já listado\n",
      "Compra no débito - Zaffari F Vieira \t já listado\n"
     ]
    }
   ],
   "source": [
    "#abrir o arquivo\n",
    "with open('D:/Downloads/NU_31197853_01SET2022_30SET2022.csv', encoding='utf-8') as mes_outubro:\n",
    "        #ler a tabela\n",
    "        planilha_outubro = csv.reader(mes_outubro, delimiter=',')\n",
    "        \n",
    "        i = 0\n",
    "        #ler valores da tabela\n",
    "        for linha in planilha_outubro:\n",
    "            if ( i>0):\n",
    "                data = linha[0]\n",
    "                valor = linha[1]\n",
    "                compra = linha[3]\n",
    "                #print(\"Linha: \" + str(linha))\n",
    "                #print(compra, valor, data)\n",
    "                \n",
    "                somaCompras(compra, valor)\n",
    "            i+=1\n",
    "\n",
    "            "
   ]
  },
  {
   "cell_type": "code",
   "execution_count": 84,
   "metadata": {},
   "outputs": [
    {
     "name": "stdout",
     "output_type": "stream",
     "text": [
      "{'Compra no débito - Zaffari F Vieira': '-48.97'}\n"
     ]
    }
   ],
   "source": [
    "print(listaCompras)"
   ]
  }
 ],
 "metadata": {
  "kernelspec": {
   "display_name": "Python 3.10.5 64-bit",
   "language": "python",
   "name": "python3"
  },
  "language_info": {
   "codemirror_mode": {
    "name": "ipython",
    "version": 3
   },
   "file_extension": ".py",
   "mimetype": "text/x-python",
   "name": "python",
   "nbconvert_exporter": "python",
   "pygments_lexer": "ipython3",
   "version": "3.10.5"
  },
  "orig_nbformat": 4,
  "vscode": {
   "interpreter": {
    "hash": "fafd3b55f039de726f6be2cfbf74e27a12dd195addc0a65ad315b275e863a3c7"
   }
  }
 },
 "nbformat": 4,
 "nbformat_minor": 2
}
