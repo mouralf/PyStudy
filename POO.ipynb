{
 "cells": [
  {
   "cell_type": "code",
   "execution_count": 1,
   "metadata": {},
   "outputs": [
    {
     "name": "stdout",
     "output_type": "stream",
     "text": [
      "Área do retângulo: 15\n",
      "Perímetro do retângulo: 16\n"
     ]
    }
   ],
   "source": [
    "class Retangulo:\n",
    "    #construtor __init__ -> responsavel pela inicializaçao do objeto\n",
    "    def __init__(self, comprimento, largura): #parametros comprimento e largura\n",
    "        self.comprimento = comprimento #atributo comprimento\n",
    "        self.largura = largura #atributo largura\n",
    "\n",
    "    #metodo calcular_area\n",
    "    def calcular_area(self):\n",
    "        return self.comprimento * self.largura\n",
    "\n",
    "    #metodo calcular_perimetro\n",
    "    def calcular_perimetro(self):\n",
    "        return 2 * (self.comprimento + self.largura)\n",
    "\n",
    "\n",
    "retangulo1 = Retangulo(5, 3)\n",
    "area1 = retangulo1.calcular_area()\n",
    "perimetro1 = retangulo1.calcular_perimetro()\n",
    "\n",
    "print(\"Área do retângulo:\", area1)\n",
    "print(\"Perímetro do retângulo:\", perimetro1)\n"
   ]
  }
 ],
 "metadata": {
  "kernelspec": {
   "display_name": "MLenv",
   "language": "python",
   "name": "python3"
  },
  "language_info": {
   "codemirror_mode": {
    "name": "ipython",
    "version": 3
   },
   "file_extension": ".py",
   "mimetype": "text/x-python",
   "name": "python",
   "nbconvert_exporter": "python",
   "pygments_lexer": "ipython3",
   "version": "3.10.8"
  },
  "orig_nbformat": 4
 },
 "nbformat": 4,
 "nbformat_minor": 2
}
