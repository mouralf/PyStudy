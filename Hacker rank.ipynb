{
 "cells": [
  {
   "cell_type": "code",
   "execution_count": 17,
   "metadata": {},
   "outputs": [
    {
     "data": {
      "text/plain": [
       "['YES', 'NO', 'NO', 'YES', 'YES']"
      ]
     },
     "execution_count": 17,
     "metadata": {},
     "output_type": "execute_result"
    }
   ],
   "source": [
    "def possibleChanges(usernames):\n",
    "    changes = []\n",
    "    for user in usernames:\n",
    "        username = []\n",
    "        usernameO = []\n",
    "\n",
    "        for l in user:\n",
    "            #print(l)\n",
    "            username.append(l)\n",
    "            usernameO.append(l)\n",
    "      \n",
    "        username.sort()\n",
    "        \n",
    "        #print(username[0])\n",
    "        #print(usernameO[0])\n",
    "        \n",
    "        \n",
    "        if(username[0] == usernameO[0]):\n",
    "            changes.append(\"NO\")\n",
    "        else:\n",
    "            changes.append(\"YES\")\n",
    "            \n",
    "    return changes\n",
    "\n"
   ]
  },
  {
   "cell_type": "code",
   "execution_count": 22,
   "metadata": {},
   "outputs": [
    {
     "data": {
      "text/plain": [
       "['YES', 'NO', 'NO', 'YES', 'NO']"
      ]
     },
     "execution_count": 22,
     "metadata": {},
     "output_type": "execute_result"
    }
   ],
   "source": [
    "possibleChanges([\"teste\", \"abacaxi\", \"acerola\", \"kiboa\", \"elipse\"])\n",
    "#possibleChanges([\"foo\", \"bar\", \"baz\"])"
   ]
  },
  {
   "cell_type": "code",
   "execution_count": null,
   "metadata": {},
   "outputs": [],
   "source": []
  },
  {
   "cell_type": "code",
   "execution_count": null,
   "metadata": {},
   "outputs": [],
   "source": [
    "nearlySimilarRectangles([[5,10],[10,10],[3,6],[9,9]])"
   ]
  }
 ],
 "metadata": {
  "kernelspec": {
   "display_name": "base",
   "language": "python",
   "name": "python3"
  },
  "language_info": {
   "codemirror_mode": {
    "name": "ipython",
    "version": 3
   },
   "file_extension": ".py",
   "mimetype": "text/x-python",
   "name": "python",
   "nbconvert_exporter": "python",
   "pygments_lexer": "ipython3",
   "version": "3.9.12"
  },
  "orig_nbformat": 4
 },
 "nbformat": 4,
 "nbformat_minor": 2
}
