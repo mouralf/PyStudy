{
 "cells": [
  {
   "attachments": {},
   "cell_type": "markdown",
   "metadata": {},
   "source": [
    "Pytest"
   ]
  },
  {
   "cell_type": "code",
   "execution_count": 9,
   "metadata": {},
   "outputs": [],
   "source": [
    "# Importe a função somar do arquivo calculadora.py\n",
    "from calculadora import somar \n",
    "\n",
    "# Defina uma função de teste\n",
    "def test_somar():\n",
    "    # Chame a função somar e verifique se o resultado é o esperado\n",
    "    resultado = somar(2, 3)\n",
    "    assert resultado == 5\n"
   ]
  },
  {
   "attachments": {},
   "cell_type": "markdown",
   "metadata": {},
   "source": [
    " Red-Green-Refactor"
   ]
  },
  {
   "cell_type": "code",
   "execution_count": 17,
   "metadata": {},
   "outputs": [
    {
     "name": "stdout",
     "output_type": "stream",
     "text": [
      "None\n"
     ]
    }
   ],
   "source": [
    "def calcular_fatorial(n):\n",
    "    # Lógica para calcular o fatorial\n",
    "    pass\n",
    "\n",
    "# Teste\n",
    "resultado = calcular_fatorial(5)\n",
    "print(resultado)\n"
   ]
  },
  {
   "cell_type": "code",
   "execution_count": 18,
   "metadata": {},
   "outputs": [
    {
     "name": "stdout",
     "output_type": "stream",
     "text": [
      "120\n"
     ]
    }
   ],
   "source": [
    "def calcular_fatorial(n):\n",
    "    if n == 0:\n",
    "        return 1\n",
    "    else:\n",
    "        return n * calcular_fatorial(n - 1)\n",
    "\n",
    "# Teste\n",
    "resultado = calcular_fatorial(5)\n",
    "print(resultado)\n"
   ]
  },
  {
   "cell_type": "code",
   "execution_count": 16,
   "metadata": {},
   "outputs": [
    {
     "name": "stdout",
     "output_type": "stream",
     "text": [
      "120\n",
      "1\n"
     ]
    }
   ],
   "source": [
    "def calcular_fatorial(n):\n",
    "    if n == 0:\n",
    "        return 1\n",
    "    else:\n",
    "        return n * calcular_fatorial(n - 1)\n",
    "\n",
    "# Testes\n",
    "resultado1 = calcular_fatorial(5)\n",
    "resultado2 = calcular_fatorial(0)\n",
    "\n",
    "print(resultado1)\n",
    "print(resultado2)\n"
   ]
  }
 ],
 "metadata": {
  "kernelspec": {
   "display_name": "MLenv",
   "language": "python",
   "name": "python3"
  },
  "language_info": {
   "codemirror_mode": {
    "name": "ipython",
    "version": 3
   },
   "file_extension": ".py",
   "mimetype": "text/x-python",
   "name": "python",
   "nbconvert_exporter": "python",
   "pygments_lexer": "ipython3",
   "version": "3.10.8"
  },
  "orig_nbformat": 4
 },
 "nbformat": 4,
 "nbformat_minor": 2
}
