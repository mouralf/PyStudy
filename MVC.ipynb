{
 "cells": [
  {
   "attachments": {},
   "cell_type": "markdown",
   "metadata": {},
   "source": [
    "MVC - Model, View, Control"
   ]
  },
  {
   "cell_type": "code",
   "execution_count": 1,
   "metadata": {},
   "outputs": [],
   "source": [
    "## MODEL ##\n",
    "\n",
    "class Tarefa:\n",
    "    def __init__(self, descricao, concluida=False):\n",
    "        self.descricao = descricao\n",
    "        self.concluida = concluida\n",
    "\n",
    "    def marcar_como_concluida(self):\n",
    "        self.concluida = True\n",
    "\n",
    "    def marcar_como_nao_concluida(self):\n",
    "        self.concluida = False\n"
   ]
  },
  {
   "cell_type": "code",
   "execution_count": 2,
   "metadata": {},
   "outputs": [],
   "source": [
    "## VIEW ##\n",
    "def exibir_tarefas(tarefas):\n",
    "    for tarefa in tarefas:\n",
    "        status = \"Concluída\" if tarefa.concluida else \"Não Concluída\"\n",
    "        print(f\"{tarefa.descricao} - {status}\")\n"
   ]
  },
  {
   "cell_type": "code",
   "execution_count": 3,
   "metadata": {},
   "outputs": [],
   "source": [
    "## CONTROL ##\n",
    "class ListaTarefasController:\n",
    "    def __init__(self):\n",
    "        self.tarefas = []\n",
    "\n",
    "    def adicionar_tarefa(self, descricao):\n",
    "        tarefa = Tarefa(descricao)\n",
    "        self.tarefas.append(tarefa)\n",
    "\n",
    "    def marcar_tarefa_como_concluida(self, indice):\n",
    "        tarefa = self.tarefas[indice]\n",
    "        tarefa.marcar_como_concluida()\n",
    "\n",
    "    def marcar_tarefa_como_nao_concluida(self, indice):\n",
    "        tarefa = self.tarefas[indice]\n",
    "        tarefa.marcar_como_nao_concluida()\n",
    "\n",
    "    def exibir_tarefas(self):\n",
    "        exibir_tarefas(self.tarefas)\n"
   ]
  },
  {
   "cell_type": "code",
   "execution_count": 4,
   "metadata": {},
   "outputs": [
    {
     "name": "stdout",
     "output_type": "stream",
     "text": [
      "Estudar Python - Não Concluída\n",
      "Fazer compras - Não Concluída\n",
      "Estudar Python - Concluída\n",
      "Fazer compras - Não Concluída\n"
     ]
    }
   ],
   "source": [
    "# Criar uma instância do controlador\n",
    "lista_tarefas = ListaTarefasController()\n",
    "\n",
    "# Adicionar tarefas\n",
    "lista_tarefas.adicionar_tarefa(\"Estudar Python\")\n",
    "lista_tarefas.adicionar_tarefa(\"Fazer compras\")\n",
    "\n",
    "# Exibir tarefas\n",
    "lista_tarefas.exibir_tarefas()\n",
    "\n",
    "# Marcar tarefa como concluída\n",
    "lista_tarefas.marcar_tarefa_como_concluida(0)\n",
    "\n",
    "# Exibir tarefas atualizadas\n",
    "lista_tarefas.exibir_tarefas()\n"
   ]
  }
 ],
 "metadata": {
  "kernelspec": {
   "display_name": "MLenv",
   "language": "python",
   "name": "python3"
  },
  "language_info": {
   "codemirror_mode": {
    "name": "ipython",
    "version": 3
   },
   "file_extension": ".py",
   "mimetype": "text/x-python",
   "name": "python",
   "nbconvert_exporter": "python",
   "pygments_lexer": "ipython3",
   "version": "3.10.8"
  },
  "orig_nbformat": 4
 },
 "nbformat": 4,
 "nbformat_minor": 2
}
