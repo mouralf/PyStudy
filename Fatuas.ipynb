{
 "cells": [
  {
   "cell_type": "code",
   "execution_count": null,
   "metadata": {},
   "outputs": [],
   "source": [
    "import csv"
   ]
  },
  {
   "cell_type": "code",
   "execution_count": null,
   "metadata": {},
   "outputs": [],
   "source": [
    "#abrir o arquivo\n",
    "with open('nubank-2022-10', encoding='utf-8') as mes_outubro:\n",
    "        #ler a tabela\n",
    "        planilha_outubro = csv.reader(mes_outubro, delimiter=',')\n",
    "        \n",
    "        #ler valores da tabela\n",
    "        for linha in planilha_outubro:\n",
    "            data = linha[0]\n",
    "            compra = linha[2]\n",
    "            valor = linha[2]\n",
    "\n",
    "            print(data, compra, valor)\n",
    "\n",
    "\n"
   ]
  },
  {
   "cell_type": "code",
   "execution_count": null,
   "metadata": {},
   "outputs": [],
   "source": []
  }
 ],
 "metadata": {
  "language_info": {
   "name": "python"
  },
  "orig_nbformat": 4
 },
 "nbformat": 4,
 "nbformat_minor": 2
}
