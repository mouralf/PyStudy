{
 "cells": [
  {
   "cell_type": "code",
   "execution_count": 1,
   "metadata": {},
   "outputs": [],
   "source": [
    "import csv"
   ]
  },
  {
   "cell_type": "code",
   "execution_count": 8,
   "metadata": {},
   "outputs": [
    {
     "name": "stdout",
     "output_type": "stream",
     "text": [
      "date title amount\n",
      "2022-08-31 Growth Whey 3/6 49.94\n",
      "2022-08-31 furadeira 3/7 32.81\n",
      "2022-08-31 ingresso arctic monkeys  5/5 204\n",
      "2022-08-31 moinhos academia 4/12 99.9\n",
      "2022-08-31 aparelho auditivo mae  2/2 55.98\n",
      "2022-08-31 Madeiramadeira - mesa 4/12 38.85\n",
      "2022-08-31 capinha celular 4/6 16.66\n",
      "2022-08-31 Amazon - Headset 3/9 31\n",
      "2022-08-31 Americanas - Fogão  8/10 149.9\n",
      "2022-09-04 Uber festa (Pago) 19.94\n",
      "2022-09-04 Ebw*Spotify 34.9\n",
      "2022-09-05 Cecilia (já abatido) 27.29\n",
      "2022-09-08 Nubank Celular Seguro 35.6\n",
      "2022-09-08 Ebw*Spotify 9.9\n",
      "2022-09-08 Pagamento recebido -1443.7\n",
      "2022-09-09 uber Cecilipe (só eu pago) 9.64\n",
      "2022-09-12 Latam Site 1/4 138.81\n",
      "2022-09-13 Cobasi sachês  37.66\n",
      "2022-09-13 Pag*Baladapp 136.41\n",
      "2022-09-16 99app *99app 11.21\n",
      "2022-09-19 livro Fernanda (pago) 46.7\n",
      "2022-09-22 Apple.Com/Bill 3.5\n",
      "2022-09-25 ração e areia cobasi  1/3 68.91\n",
      "2022-09-26 Tembici 24.9\n",
      "2022-09-28 sachês e areia zeenow 31.06\n",
      "2022-09-29 IOF de \"Paypal *Shein\" 0.92\n",
      "2022-09-29 Paypal *Shein 14.41\n"
     ]
    }
   ],
   "source": [
    "#abrir o arquivo\n",
    "with open('D:/Downloads/nubank-2022-10.csv', encoding='utf-8') as mes_outubro:\n",
    "        #ler a tabela\n",
    "        planilha_outubro = csv.reader(mes_outubro, delimiter=',')\n",
    "        \n",
    "        #ler valores da tabela\n",
    "        for linha in planilha_outubro:\n",
    "            data = linha[0]\n",
    "            compra = linha[2]\n",
    "            valor = linha[3]\n",
    "\n",
    "            print(data, compra, valor)"
   ]
  },
  {
   "cell_type": "code",
   "execution_count": null,
   "metadata": {},
   "outputs": [],
   "source": [
    "somaCompras(nomeCompra, valorCompra):\n",
    "    "
   ]
  }
 ],
 "metadata": {
  "kernelspec": {
   "display_name": "Python 3.10.5 64-bit",
   "language": "python",
   "name": "python3"
  },
  "language_info": {
   "codemirror_mode": {
    "name": "ipython",
    "version": 3
   },
   "file_extension": ".py",
   "mimetype": "text/x-python",
   "name": "python",
   "nbconvert_exporter": "python",
   "pygments_lexer": "ipython3",
   "version": "3.10.5"
  },
  "orig_nbformat": 4,
  "vscode": {
   "interpreter": {
    "hash": "fafd3b55f039de726f6be2cfbf74e27a12dd195addc0a65ad315b275e863a3c7"
   }
  }
 },
 "nbformat": 4,
 "nbformat_minor": 2
}
