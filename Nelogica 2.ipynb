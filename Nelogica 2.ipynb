{
 "cells": [
  {
   "cell_type": "code",
   "execution_count": 5,
   "metadata": {},
   "outputs": [
    {
     "data": {
      "text/plain": [
       "'0'"
      ]
     },
     "execution_count": 5,
     "metadata": {},
     "output_type": "execute_result"
    }
   ],
   "source": [
    "def fourthBit(number):\n",
    "    fourth = None\n",
    "\n",
    "    if (number>=0 and number<2**31):         \n",
    "        # Write your code here\n",
    "        num = bin(number)[2:] #a funcao retorna uma string comecandom com 2b, entao pegar os numeros a partir dela\n",
    "        fourth = num[-4]\n",
    "        \n",
    "    else:\n",
    "        fourth = None\n",
    "\n",
    "    return fourth\n",
    "\n",
    "\n",
    "n = 32\n",
    "fourthBit(n)"
   ]
  },
  {
   "cell_type": "code",
   "execution_count": 38,
   "metadata": {},
   "outputs": [
    {
     "name": "stdout",
     "output_type": "stream",
     "text": [
      "True\n",
      "a\n",
      "e\n",
      "b\n",
      "f\n",
      "c\n",
      "g\n",
      "d\n",
      "h\n",
      "Max:5 Min:4\n"
     ]
    },
    {
     "data": {
      "text/plain": [
       "'aebfcgdhk'"
      ]
     },
     "execution_count": 38,
     "metadata": {},
     "output_type": "execute_result"
    }
   ],
   "source": [
    "\n",
    "def newPassword(a, b):\n",
    "    # Write your code here\n",
    "    max = 0\n",
    "    min = 0\n",
    "\n",
    "\n",
    "    merged = \"\"\n",
    "\n",
    "    if (verifPassw(a,b)):\n",
    "\n",
    "        if (len(a)>len(b)):\n",
    "            max = len(a)\n",
    "            min = len(b)\n",
    "        \n",
    "        else:\n",
    "            max = len(b)\n",
    "            min = len(a)\n",
    "\n",
    "        for l in range(min):\n",
    "            print(a[l])\n",
    "            merged+=(a[l])\n",
    "            print(b[l])\n",
    "            merged+=(b[l])\n",
    "        \n",
    "        if (max > min):\n",
    "            print(\"Max:\" + str(max) + \" Min:\" + str(min))\n",
    "\n",
    "            if (len(a) == max):\n",
    "                merged+=a[min:]\n",
    "            elif(len(b) == max):\n",
    "                merged+=b[min:]\n",
    "    else:\n",
    "        merged = None\n",
    "    \n",
    "    return merged\n",
    "\n",
    "def verifPassw(a,b):\n",
    "    constr = True\n",
    "\n",
    "    if not(len(a)>=1 and len(a)<=25000):\n",
    "        constr = False\n",
    "    \n",
    "    if not(len(b)>=1 and len(b)<=25000):\n",
    "        constr = False\n",
    "\n",
    "    if not(a.islower() and b.islower()):\n",
    "        constr = False\n",
    "\n",
    "    if not (a.isalpha() and b.isalpha()):\n",
    "        constr = False\n",
    "    \n",
    "    print(constr)\n",
    "        \n",
    "    return constr\n",
    "    \n",
    "\n",
    "\n",
    "\n",
    "sA = 'abcd'\n",
    "sB = 'efghk'\n",
    "\n",
    "newPassword(sA, sB)"
   ]
  },
  {
   "cell_type": "code",
   "execution_count": 67,
   "metadata": {},
   "outputs": [
    {
     "name": "stdout",
     "output_type": "stream",
     "text": [
      "<class 'list'>\n",
      "None\n"
     ]
    },
    {
     "ename": "AttributeError",
     "evalue": "'NoneType' object has no attribute 'index'",
     "output_type": "error",
     "traceback": [
      "\u001b[1;31m---------------------------------------------------------------------------\u001b[0m",
      "\u001b[1;31mAttributeError\u001b[0m                            Traceback (most recent call last)",
      "\u001b[1;32md:\\Documentos\\Códigos\\PyStudy\\Nelogica 2.ipynb Célula 3\u001b[0m in \u001b[0;36m<cell line: 19>\u001b[1;34m()\u001b[0m\n\u001b[0;32m     <a href='vscode-notebook-cell:/d%3A/Documentos/C%C3%B3digos/PyStudy/Nelogica%202.ipynb#W2sZmlsZQ%3D%3D?line=15'>16</a>\u001b[0m listinha \u001b[39m=\u001b[39m [\u001b[39m100\u001b[39m, \u001b[39m105\u001b[39m, \u001b[39m50\u001b[39m,\u001b[39m20\u001b[39m]\n\u001b[0;32m     <a href='vscode-notebook-cell:/d%3A/Documentos/C%C3%B3digos/PyStudy/Nelogica%202.ipynb#W2sZmlsZQ%3D%3D?line=16'>17</a>\u001b[0m \u001b[39mprint\u001b[39m(\u001b[39mtype\u001b[39m(listinha))\n\u001b[1;32m---> <a href='vscode-notebook-cell:/d%3A/Documentos/C%C3%B3digos/PyStudy/Nelogica%202.ipynb#W2sZmlsZQ%3D%3D?line=18'>19</a>\u001b[0m removeNodes(listinha, X)\n",
      "\u001b[1;32md:\\Documentos\\Códigos\\PyStudy\\Nelogica 2.ipynb Célula 3\u001b[0m in \u001b[0;36mremoveNodes\u001b[1;34m(listHead, x)\u001b[0m\n\u001b[0;32m      <a href='vscode-notebook-cell:/d%3A/Documentos/C%C3%B3digos/PyStudy/Nelogica%202.ipynb#W2sZmlsZQ%3D%3D?line=4'>5</a>\u001b[0m lista \u001b[39m=\u001b[39m listHead\u001b[39m.\u001b[39msort() \u001b[39m#ordena em ordem crescente a lista\u001b[39;00m\n\u001b[0;32m      <a href='vscode-notebook-cell:/d%3A/Documentos/C%C3%B3digos/PyStudy/Nelogica%202.ipynb#W2sZmlsZQ%3D%3D?line=5'>6</a>\u001b[0m \u001b[39mprint\u001b[39m(lista)\n\u001b[1;32m----> <a href='vscode-notebook-cell:/d%3A/Documentos/C%C3%B3digos/PyStudy/Nelogica%202.ipynb#W2sZmlsZQ%3D%3D?line=6'>7</a>\u001b[0m maxPos \u001b[39m=\u001b[39m lista\u001b[39m.\u001b[39;49mindex(x) \u001b[39m#pega o indice da posicao do maximo valor\u001b[39;00m\n\u001b[0;32m      <a href='vscode-notebook-cell:/d%3A/Documentos/C%C3%B3digos/PyStudy/Nelogica%202.ipynb#W2sZmlsZQ%3D%3D?line=7'>8</a>\u001b[0m \u001b[39mprint\u001b[39m(maxPos)\n\u001b[0;32m      <a href='vscode-notebook-cell:/d%3A/Documentos/C%C3%B3digos/PyStudy/Nelogica%202.ipynb#W2sZmlsZQ%3D%3D?line=8'>9</a>\u001b[0m listaFinal \u001b[39m=\u001b[39m lista[:maxPos]\n",
      "\u001b[1;31mAttributeError\u001b[0m: 'NoneType' object has no attribute 'index'"
     ]
    }
   ],
   "source": [
    "def removeNodes(listHead, x):\n",
    "    # Write your code here\n",
    "    listaFinal = []\n",
    "\n",
    "    lista = listHead.sort() #ordena em ordem crescente a lista\n",
    "    print(lista)\n",
    "\n",
    "    maxPos = lista.index(x) #pega o indice da posicao do maximo valor\n",
    "    print(maxPos)\n",
    "\n",
    "    listaFinal = lista[:maxPos]\n",
    "    \n",
    "    print(listaFinal)\n",
    "    \n",
    "    return listaFinal\n",
    "    \n",
    "\n",
    "X = 100\n",
    "listinha = [100, 105, 50,20]\n",
    "print(type(listinha))\n",
    "\n",
    "removeNodes(listinha, X)"
   ]
  },
  {
   "cell_type": "code",
   "execution_count": 78,
   "metadata": {},
   "outputs": [
    {
     "data": {
      "text/plain": [
       "[False, True]"
      ]
     },
     "execution_count": 78,
     "metadata": {},
     "output_type": "execute_result"
    }
   ],
   "source": [
    "def matchingBraces(braces):\n",
    "    # Write your code here\n",
    "    openT = ['(', '[','{']\n",
    "    closeT = [')','}', ']']\n",
    "    \n",
    "    balanced = []\n",
    "    \n",
    "    str1 = braces[0]\n",
    "    str2 = braces[1]\n",
    "\n",
    "    braces1 = []\n",
    "    braces2 = []\n",
    "\n",
    "    balanced1 = True\n",
    "    balanced2 = True\n",
    "\n",
    "    for braceO in range(len((str1))):\n",
    "        for i in range(len(openT)):\n",
    "            if str1[braceO] in openT[i]:\n",
    "                for braceC in range(braceO+1, len(str1)):\n",
    "                    if str1[braceC] in openT:\n",
    "                        if not str1[braceC] in closeT[i]:\n",
    "                            balanced1 = False\n",
    "        \n",
    "    balanced = [balanced1, balanced2]\n",
    "    return balanced\n",
    "                \n",
    "            \n",
    "\n",
    "braces = ['{}[]()', '{[}]}']\n",
    "matchingBraces(braces)"
   ]
  },
  {
   "cell_type": "code",
   "execution_count": null,
   "metadata": {},
   "outputs": [],
   "source": []
  }
 ],
 "metadata": {
  "kernelspec": {
   "display_name": "base",
   "language": "python",
   "name": "python3"
  },
  "language_info": {
   "codemirror_mode": {
    "name": "ipython",
    "version": 3
   },
   "file_extension": ".py",
   "mimetype": "text/x-python",
   "name": "python",
   "nbconvert_exporter": "python",
   "pygments_lexer": "ipython3",
   "version": "3.9.12"
  },
  "orig_nbformat": 4
 },
 "nbformat": 4,
 "nbformat_minor": 2
}
